{
 "cells": [
  {
   "cell_type": "code",
   "execution_count": 8,
   "metadata": {},
   "outputs": [],
   "source": [
    "base = 0 \n",
    "\n",
    "def Palindrome(n): \n",
    "    a = str(n)\n",
    "    if a == a[::-1]: \n",
    "        return True\n",
    "    else: \n",
    "        return False\n",
    "    \n",
    "    for i in range(100, 1000): \n",
    "        for j in range(100,1000): \n",
    "            b = i*j \n",
    "            if Palindrome(b) and b > base: \n",
    "                base = b\n",
    "                print(base)"
   ]
  },
  {
   "cell_type": "code",
   "execution_count": null,
   "metadata": {},
   "outputs": [],
   "source": []
  }
 ],
 "metadata": {
  "kernelspec": {
   "display_name": "Python 3",
   "language": "python",
   "name": "python3"
  },
  "language_info": {
   "codemirror_mode": {
    "name": "ipython",
    "version": 3
   },
   "file_extension": ".py",
   "mimetype": "text/x-python",
   "name": "python",
   "nbconvert_exporter": "python",
   "pygments_lexer": "ipython3",
   "version": "3.6.5"
  }
 },
 "nbformat": 4,
 "nbformat_minor": 2
}
